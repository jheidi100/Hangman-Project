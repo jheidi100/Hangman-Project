{
 "cells": [
  {
   "cell_type": "code",
   "execution_count": null,
   "metadata": {},
   "outputs": [],
   "source": [
    "import random "
   ]
  },
  {
   "cell_type": "code",
   "execution_count": null,
   "metadata": {},
   "outputs": [],
   "source": [
    "random_word_list = [\"hello\", \"apple\", \"banana\", \"grapes\"]\n",
    "#unused_letters = \"ABCDEFGHIJKLMNOPQRSTUVWXYZ\"\n",
    "play_again = \"Yes\""
   ]
  },
  {
   "cell_type": "code",
   "execution_count": null,
   "metadata": {},
   "outputs": [],
   "source": [
    "# def replace(word,old, new):\n",
    "#     wordletter_list = list(word)\n",
    "#     for letter in wordletter_list: \n",
    "\n",
    "def list_to_string(li): \n",
    "    return \"\".join(li)\n",
    "    "
   ]
  },
  {
   "cell_type": "code",
   "execution_count": null,
   "metadata": {},
   "outputs": [],
   "source": [
    "print(\"LET's PLAY HANGMAN!\")\n",
    "while play_again == \"Yes\": \n",
    "    unused_letters = ['A', 'B', 'C', 'D', 'E', 'F', 'G', 'H', 'I', 'J', 'K', 'L', 'M', 'N', 'O', 'P', 'Q', 'R', 'S', 'T', 'U', 'V', 'W', 'X', 'Y', 'Z']\n",
    "    choose_word = input(\"Would you like me to choose a word for you? (Yes/No)\")\n",
    "    if choose_word == \"Yes\": \n",
    "        word = random.choice(random_word_list)\n",
    "    else: \n",
    "        word = input(\"Please enter a word for the other player to guess:\")\n",
    "\n",
    "    answer_list = list(\"-\" * len(word))\n",
    "    num_guess = int(input(\"Please enter the number of guesses allowed:\"))\n",
    "\n",
    "    while num_guess != 0 :\n",
    "        print(f\"Guess the word, {num_guess} guess(es) left: {list_to_string(answer_list)}\") \n",
    "        print(f\"Unused letters : {list_to_string(unused_letters)}\")\n",
    "        letter_match = 0 \n",
    "        letter_guess = input()\n",
    "        for i in range(len(word)): \n",
    "            if letter_guess.lower() == word[i].lower(): \n",
    "                answer_list[i] = word[i]\n",
    "                try: \n",
    "                    unused_letters.remove(letter_guess.upper())\n",
    "                except: \n",
    "                    pass\n",
    "                letter_match += 1\n",
    "        if letter_match == 0: \n",
    "            num_guess -= 1 \n",
    "        if num_guess == 0: \n",
    "            print(\"SORRY, YOU ARE HANGED!\")\n",
    "            play_again = input(\"Would you like to play again?\")\n",
    "            continue\n",
    "        elif list_to_string(answer_list) == word: \n",
    "            print(\"CONGRATULATIONS! YOU WIN!\")\n",
    "            play_again = input(\"Would you like to play again?\")\n",
    "            continue\n",
    "    \n",
    "          \n",
    "          \n",
    "    \n",
    "            \n",
    "#Where do I put play again T_T           \n",
    "#Does entry have to be letters - like do I check that \n",
    "#  Why is \"\".join(list) not working in format string :((  \"}\" needed?    \n",
    "#NOT SURE IF WE'RE ALLOWED TO USE MULTIPLICATION FOR DASH\n",
    "#https://www.quora.com/How-do-you-generate-a-random-word-from-a-list-in-Python#:~:text=For%20generating%20a%20random%20word,the%20list%20as%20an%20argument."
   ]
  },
  {
   "cell_type": "code",
   "execution_count": null,
   "metadata": {},
   "outputs": [],
   "source": [
    "\"-\"*5"
   ]
  },
  {
   "cell_type": "code",
   "execution_count": null,
   "metadata": {},
   "outputs": [],
   "source": [
    "for i in \"hello\": \n",
    "    print(i == \"h\")"
   ]
  },
  {
   "cell_type": "code",
   "execution_count": null,
   "metadata": {},
   "outputs": [],
   "source": [
    "list(\"hello\")"
   ]
  },
  {
   "cell_type": "code",
   "execution_count": null,
   "metadata": {},
   "outputs": [],
   "source": [
    "word = \"hello\""
   ]
  },
  {
   "cell_type": "code",
   "execution_count": null,
   "metadata": {},
   "outputs": [],
   "source": [
    "word[1]"
   ]
  },
  {
   "cell_type": "code",
   "execution_count": null,
   "metadata": {},
   "outputs": [],
   "source": [
    "word[1] = \"j\""
   ]
  },
  {
   "cell_type": "code",
   "execution_count": null,
   "metadata": {},
   "outputs": [],
   "source": [
    "lis = [\"a\", \"b\", \"c\"]\n",
    "str(lis)"
   ]
  },
  {
   "cell_type": "code",
   "execution_count": null,
   "metadata": {},
   "outputs": [],
   "source": [
    "list_to_string(lis)"
   ]
  },
  {
   "cell_type": "code",
   "execution_count": null,
   "metadata": {},
   "outputs": [],
   "source": [
    "\"\".join(lis)"
   ]
  },
  {
   "cell_type": "code",
   "execution_count": null,
   "metadata": {},
   "outputs": [],
   "source": [
    "lis.pop(0)"
   ]
  },
  {
   "cell_type": "code",
   "execution_count": null,
   "metadata": {},
   "outputs": [],
   "source": [
    "try: \n",
    "lis.remove(\"d\")\n",
    "except: \n",
    "    pass"
   ]
  },
  {
   "cell_type": "code",
   "execution_count": null,
   "metadata": {},
   "outputs": [],
   "source": [
    "lis"
   ]
  },
  {
   "cell_type": "code",
   "execution_count": null,
   "metadata": {},
   "outputs": [],
   "source": [
    "lower(\"hello\")"
   ]
  },
  {
   "cell_type": "code",
   "execution_count": null,
   "metadata": {},
   "outputs": [],
   "source": []
  }
 ],
 "metadata": {
  "kernelspec": {
   "display_name": "Python 3",
   "language": "python",
   "name": "python3"
  },
  "language_info": {
   "codemirror_mode": {
    "name": "ipython",
    "version": 3
   },
   "file_extension": ".py",
   "mimetype": "text/x-python",
   "name": "python",
   "nbconvert_exporter": "python",
   "pygments_lexer": "ipython3",
   "version": "3.7.4"
  }
 },
 "nbformat": 4,
 "nbformat_minor": 2
}
